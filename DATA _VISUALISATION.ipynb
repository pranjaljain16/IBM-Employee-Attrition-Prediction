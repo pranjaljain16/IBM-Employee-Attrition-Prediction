{
 "cells": [
  {
   "cell_type": "markdown",
   "id": "03c2198f",
   "metadata": {},
   "source": [
    "# Importing Libraries"
   ]
  },
  {
   "cell_type": "code",
   "execution_count": 1,
   "id": "5a880321",
   "metadata": {},
   "outputs": [],
   "source": [
    "# import 'Pandas' \n",
    "import pandas as pd \n",
    "\n",
    "# import 'Numpy' \n",
    "import numpy as np\n",
    "\n",
    "# import subpackage of Matplotlib\n",
    "import matplotlib.pyplot as plt\n",
    "\n",
    "# import 'Seaborn' \n",
    "import seaborn as sns\n",
    "\n",
    "# to suppress warnings \n",
    "from warnings import filterwarnings\n",
    "filterwarnings('ignore')\n",
    "\n",
    "# display all columns of the dataframe\n",
    "pd.options.display.max_columns = None\n",
    "\n",
    "# display all rows of the dataframe\n",
    "pd.options.display.max_rows = None\n",
    " \n",
    "# to display the float values upto 6 decimal places     \n",
    "pd.options.display.float_format = '{:.6f}'.format\n",
    "\n",
    "# import train-test split \n",
    "from sklearn.model_selection import train_test_split\n",
    "from sklearn.preprocessing import StandardScaler\n",
    "\n",
    "# import various functions from statsmodel to perform linear regression\n",
    "import statsmodels\n",
    "import statsmodels.api as sm\n",
    "import statsmodels.stats.api as sms\n",
    "from statsmodels.compat import lzip\n",
    "from statsmodels.stats.outliers_influence import variance_inflation_factor\n",
    "from statsmodels.graphics.gofplots import qqplot\n",
    "from statsmodels.stats.anova import anova_lm\n",
    "from statsmodels.formula.api import ols\n",
    "from statsmodels.tools.eval_measures import rmse\n",
    "\n",
    "# import various functions from scipy\n",
    "from scipy import stats\n",
    "from scipy.stats import shapiro,norm\n",
    "\n",
    "# 'metrics' from sklearn is used for evaluating the model performance\n",
    "from sklearn.metrics import mean_absolute_error\n",
    "from sklearn.metrics import mean_squared_error"
   ]
  },
  {
   "cell_type": "markdown",
   "id": "8bd26baa",
   "metadata": {},
   "source": [
    "# Importing dataset"
   ]
  },
  {
   "cell_type": "code",
   "execution_count": 2,
   "id": "5679a005",
   "metadata": {},
   "outputs": [
    {
     "data": {
      "text/html": [
       "<div>\n",
       "<style scoped>\n",
       "    .dataframe tbody tr th:only-of-type {\n",
       "        vertical-align: middle;\n",
       "    }\n",
       "\n",
       "    .dataframe tbody tr th {\n",
       "        vertical-align: top;\n",
       "    }\n",
       "\n",
       "    .dataframe thead th {\n",
       "        text-align: right;\n",
       "    }\n",
       "</style>\n",
       "<table border=\"1\" class=\"dataframe\">\n",
       "  <thead>\n",
       "    <tr style=\"text-align: right;\">\n",
       "      <th></th>\n",
       "      <th>Age</th>\n",
       "      <th>Attrition</th>\n",
       "      <th>BusinessTravel</th>\n",
       "      <th>DailyRate</th>\n",
       "      <th>Department</th>\n",
       "      <th>DistanceFromHome</th>\n",
       "      <th>Education</th>\n",
       "      <th>EducationField</th>\n",
       "      <th>EmployeeCount</th>\n",
       "      <th>EmployeeNumber</th>\n",
       "      <th>EnvironmentSatisfaction</th>\n",
       "      <th>Gender</th>\n",
       "      <th>HourlyRate</th>\n",
       "      <th>JobInvolvement</th>\n",
       "      <th>JobLevel</th>\n",
       "      <th>JobRole</th>\n",
       "      <th>JobSatisfaction</th>\n",
       "      <th>MaritalStatus</th>\n",
       "      <th>MonthlyIncome</th>\n",
       "      <th>MonthlyRate</th>\n",
       "      <th>NumCompaniesWorked</th>\n",
       "      <th>Over18</th>\n",
       "      <th>OverTime</th>\n",
       "      <th>PercentSalaryHike</th>\n",
       "      <th>PerformanceRating</th>\n",
       "      <th>RelationshipSatisfaction</th>\n",
       "      <th>StandardHours</th>\n",
       "      <th>StockOptionLevel</th>\n",
       "      <th>TotalWorkingYears</th>\n",
       "      <th>TrainingTimesLastYear</th>\n",
       "      <th>WorkLifeBalance</th>\n",
       "      <th>YearsAtCompany</th>\n",
       "      <th>YearsInCurrentRole</th>\n",
       "      <th>YearsSinceLastPromotion</th>\n",
       "      <th>YearsWithCurrManager</th>\n",
       "    </tr>\n",
       "  </thead>\n",
       "  <tbody>\n",
       "    <tr>\n",
       "      <th>0</th>\n",
       "      <td>41</td>\n",
       "      <td>1</td>\n",
       "      <td>Travel_Rarely</td>\n",
       "      <td>1102</td>\n",
       "      <td>Sales</td>\n",
       "      <td>1</td>\n",
       "      <td>2</td>\n",
       "      <td>Life Sciences</td>\n",
       "      <td>1</td>\n",
       "      <td>1</td>\n",
       "      <td>2</td>\n",
       "      <td>Female</td>\n",
       "      <td>94</td>\n",
       "      <td>3</td>\n",
       "      <td>2</td>\n",
       "      <td>Sales Executive</td>\n",
       "      <td>4</td>\n",
       "      <td>Single</td>\n",
       "      <td>5993</td>\n",
       "      <td>19479</td>\n",
       "      <td>8</td>\n",
       "      <td>Y</td>\n",
       "      <td>Yes</td>\n",
       "      <td>11</td>\n",
       "      <td>3</td>\n",
       "      <td>1</td>\n",
       "      <td>80</td>\n",
       "      <td>0</td>\n",
       "      <td>8</td>\n",
       "      <td>0</td>\n",
       "      <td>1</td>\n",
       "      <td>6</td>\n",
       "      <td>4</td>\n",
       "      <td>0</td>\n",
       "      <td>5</td>\n",
       "    </tr>\n",
       "    <tr>\n",
       "      <th>1</th>\n",
       "      <td>49</td>\n",
       "      <td>0</td>\n",
       "      <td>Travel_Frequently</td>\n",
       "      <td>279</td>\n",
       "      <td>Research &amp; Development</td>\n",
       "      <td>8</td>\n",
       "      <td>1</td>\n",
       "      <td>Life Sciences</td>\n",
       "      <td>1</td>\n",
       "      <td>2</td>\n",
       "      <td>3</td>\n",
       "      <td>Male</td>\n",
       "      <td>61</td>\n",
       "      <td>2</td>\n",
       "      <td>2</td>\n",
       "      <td>Research Scientist</td>\n",
       "      <td>2</td>\n",
       "      <td>Married</td>\n",
       "      <td>5130</td>\n",
       "      <td>24907</td>\n",
       "      <td>1</td>\n",
       "      <td>Y</td>\n",
       "      <td>No</td>\n",
       "      <td>23</td>\n",
       "      <td>4</td>\n",
       "      <td>4</td>\n",
       "      <td>80</td>\n",
       "      <td>1</td>\n",
       "      <td>10</td>\n",
       "      <td>3</td>\n",
       "      <td>3</td>\n",
       "      <td>10</td>\n",
       "      <td>7</td>\n",
       "      <td>1</td>\n",
       "      <td>7</td>\n",
       "    </tr>\n",
       "    <tr>\n",
       "      <th>2</th>\n",
       "      <td>37</td>\n",
       "      <td>1</td>\n",
       "      <td>Travel_Rarely</td>\n",
       "      <td>1373</td>\n",
       "      <td>Research &amp; Development</td>\n",
       "      <td>2</td>\n",
       "      <td>2</td>\n",
       "      <td>Other</td>\n",
       "      <td>1</td>\n",
       "      <td>4</td>\n",
       "      <td>4</td>\n",
       "      <td>Male</td>\n",
       "      <td>92</td>\n",
       "      <td>2</td>\n",
       "      <td>1</td>\n",
       "      <td>Laboratory Technician</td>\n",
       "      <td>3</td>\n",
       "      <td>Single</td>\n",
       "      <td>2090</td>\n",
       "      <td>2396</td>\n",
       "      <td>6</td>\n",
       "      <td>Y</td>\n",
       "      <td>Yes</td>\n",
       "      <td>15</td>\n",
       "      <td>3</td>\n",
       "      <td>2</td>\n",
       "      <td>80</td>\n",
       "      <td>0</td>\n",
       "      <td>7</td>\n",
       "      <td>3</td>\n",
       "      <td>3</td>\n",
       "      <td>0</td>\n",
       "      <td>0</td>\n",
       "      <td>0</td>\n",
       "      <td>0</td>\n",
       "    </tr>\n",
       "    <tr>\n",
       "      <th>3</th>\n",
       "      <td>33</td>\n",
       "      <td>0</td>\n",
       "      <td>Travel_Frequently</td>\n",
       "      <td>1392</td>\n",
       "      <td>Research &amp; Development</td>\n",
       "      <td>3</td>\n",
       "      <td>4</td>\n",
       "      <td>Life Sciences</td>\n",
       "      <td>1</td>\n",
       "      <td>5</td>\n",
       "      <td>4</td>\n",
       "      <td>Female</td>\n",
       "      <td>56</td>\n",
       "      <td>3</td>\n",
       "      <td>1</td>\n",
       "      <td>Research Scientist</td>\n",
       "      <td>3</td>\n",
       "      <td>Married</td>\n",
       "      <td>2909</td>\n",
       "      <td>23159</td>\n",
       "      <td>1</td>\n",
       "      <td>Y</td>\n",
       "      <td>Yes</td>\n",
       "      <td>11</td>\n",
       "      <td>3</td>\n",
       "      <td>3</td>\n",
       "      <td>80</td>\n",
       "      <td>0</td>\n",
       "      <td>8</td>\n",
       "      <td>3</td>\n",
       "      <td>3</td>\n",
       "      <td>8</td>\n",
       "      <td>7</td>\n",
       "      <td>3</td>\n",
       "      <td>0</td>\n",
       "    </tr>\n",
       "    <tr>\n",
       "      <th>4</th>\n",
       "      <td>27</td>\n",
       "      <td>0</td>\n",
       "      <td>Travel_Rarely</td>\n",
       "      <td>591</td>\n",
       "      <td>Research &amp; Development</td>\n",
       "      <td>2</td>\n",
       "      <td>1</td>\n",
       "      <td>Medical</td>\n",
       "      <td>1</td>\n",
       "      <td>7</td>\n",
       "      <td>1</td>\n",
       "      <td>Male</td>\n",
       "      <td>40</td>\n",
       "      <td>3</td>\n",
       "      <td>1</td>\n",
       "      <td>Laboratory Technician</td>\n",
       "      <td>2</td>\n",
       "      <td>Married</td>\n",
       "      <td>3468</td>\n",
       "      <td>16632</td>\n",
       "      <td>9</td>\n",
       "      <td>Y</td>\n",
       "      <td>No</td>\n",
       "      <td>12</td>\n",
       "      <td>3</td>\n",
       "      <td>4</td>\n",
       "      <td>80</td>\n",
       "      <td>1</td>\n",
       "      <td>6</td>\n",
       "      <td>3</td>\n",
       "      <td>3</td>\n",
       "      <td>2</td>\n",
       "      <td>2</td>\n",
       "      <td>2</td>\n",
       "      <td>2</td>\n",
       "    </tr>\n",
       "  </tbody>\n",
       "</table>\n",
       "</div>"
      ],
      "text/plain": [
       "   Age  Attrition     BusinessTravel  DailyRate              Department  \\\n",
       "0   41          1      Travel_Rarely       1102                   Sales   \n",
       "1   49          0  Travel_Frequently        279  Research & Development   \n",
       "2   37          1      Travel_Rarely       1373  Research & Development   \n",
       "3   33          0  Travel_Frequently       1392  Research & Development   \n",
       "4   27          0      Travel_Rarely        591  Research & Development   \n",
       "\n",
       "   DistanceFromHome  Education EducationField  EmployeeCount  EmployeeNumber  \\\n",
       "0                 1          2  Life Sciences              1               1   \n",
       "1                 8          1  Life Sciences              1               2   \n",
       "2                 2          2          Other              1               4   \n",
       "3                 3          4  Life Sciences              1               5   \n",
       "4                 2          1        Medical              1               7   \n",
       "\n",
       "   EnvironmentSatisfaction  Gender  HourlyRate  JobInvolvement  JobLevel  \\\n",
       "0                        2  Female          94               3         2   \n",
       "1                        3    Male          61               2         2   \n",
       "2                        4    Male          92               2         1   \n",
       "3                        4  Female          56               3         1   \n",
       "4                        1    Male          40               3         1   \n",
       "\n",
       "                 JobRole  JobSatisfaction MaritalStatus  MonthlyIncome  \\\n",
       "0        Sales Executive                4        Single           5993   \n",
       "1     Research Scientist                2       Married           5130   \n",
       "2  Laboratory Technician                3        Single           2090   \n",
       "3     Research Scientist                3       Married           2909   \n",
       "4  Laboratory Technician                2       Married           3468   \n",
       "\n",
       "   MonthlyRate  NumCompaniesWorked Over18 OverTime  PercentSalaryHike  \\\n",
       "0        19479                   8      Y      Yes                 11   \n",
       "1        24907                   1      Y       No                 23   \n",
       "2         2396                   6      Y      Yes                 15   \n",
       "3        23159                   1      Y      Yes                 11   \n",
       "4        16632                   9      Y       No                 12   \n",
       "\n",
       "   PerformanceRating  RelationshipSatisfaction  StandardHours  \\\n",
       "0                  3                         1             80   \n",
       "1                  4                         4             80   \n",
       "2                  3                         2             80   \n",
       "3                  3                         3             80   \n",
       "4                  3                         4             80   \n",
       "\n",
       "   StockOptionLevel  TotalWorkingYears  TrainingTimesLastYear  \\\n",
       "0                 0                  8                      0   \n",
       "1                 1                 10                      3   \n",
       "2                 0                  7                      3   \n",
       "3                 0                  8                      3   \n",
       "4                 1                  6                      3   \n",
       "\n",
       "   WorkLifeBalance  YearsAtCompany  YearsInCurrentRole  \\\n",
       "0                1               6                   4   \n",
       "1                3              10                   7   \n",
       "2                3               0                   0   \n",
       "3                3               8                   7   \n",
       "4                3               2                   2   \n",
       "\n",
       "   YearsSinceLastPromotion  YearsWithCurrManager  \n",
       "0                        0                     5  \n",
       "1                        1                     7  \n",
       "2                        0                     0  \n",
       "3                        3                     0  \n",
       "4                        2                     2  "
      ]
     },
     "execution_count": 2,
     "metadata": {},
     "output_type": "execute_result"
    }
   ],
   "source": [
    "data = pd.read_csv('C:/Users/pranj/Desktop/IBM dataset.csv')\n",
    "data.head()"
   ]
  },
  {
   "cell_type": "code",
   "execution_count": 3,
   "id": "bacb8e41",
   "metadata": {},
   "outputs": [
    {
     "data": {
      "text/html": [
       "<div>\n",
       "<style scoped>\n",
       "    .dataframe tbody tr th:only-of-type {\n",
       "        vertical-align: middle;\n",
       "    }\n",
       "\n",
       "    .dataframe tbody tr th {\n",
       "        vertical-align: top;\n",
       "    }\n",
       "\n",
       "    .dataframe thead th {\n",
       "        text-align: right;\n",
       "    }\n",
       "</style>\n",
       "<table border=\"1\" class=\"dataframe\">\n",
       "  <thead>\n",
       "    <tr style=\"text-align: right;\">\n",
       "      <th></th>\n",
       "      <th>Age</th>\n",
       "      <th>Attrition</th>\n",
       "      <th>BusinessTravel</th>\n",
       "      <th>DailyRate</th>\n",
       "      <th>Department</th>\n",
       "      <th>DistanceFromHome</th>\n",
       "      <th>Education</th>\n",
       "      <th>EducationField</th>\n",
       "      <th>EmployeeCount</th>\n",
       "      <th>EmployeeNumber</th>\n",
       "      <th>EnvironmentSatisfaction</th>\n",
       "      <th>Gender</th>\n",
       "      <th>HourlyRate</th>\n",
       "      <th>JobInvolvement</th>\n",
       "      <th>JobLevel</th>\n",
       "      <th>JobRole</th>\n",
       "      <th>JobSatisfaction</th>\n",
       "      <th>MaritalStatus</th>\n",
       "      <th>MonthlyIncome</th>\n",
       "      <th>MonthlyRate</th>\n",
       "      <th>NumCompaniesWorked</th>\n",
       "      <th>Over18</th>\n",
       "      <th>OverTime</th>\n",
       "      <th>PercentSalaryHike</th>\n",
       "      <th>PerformanceRating</th>\n",
       "      <th>RelationshipSatisfaction</th>\n",
       "      <th>StandardHours</th>\n",
       "      <th>StockOptionLevel</th>\n",
       "      <th>TotalWorkingYears</th>\n",
       "      <th>TrainingTimesLastYear</th>\n",
       "      <th>WorkLifeBalance</th>\n",
       "      <th>YearsAtCompany</th>\n",
       "      <th>YearsInCurrentRole</th>\n",
       "      <th>YearsSinceLastPromotion</th>\n",
       "      <th>YearsWithCurrManager</th>\n",
       "    </tr>\n",
       "  </thead>\n",
       "  <tbody>\n",
       "    <tr>\n",
       "      <th>0</th>\n",
       "      <td>41</td>\n",
       "      <td>1</td>\n",
       "      <td>Travel_Rarely</td>\n",
       "      <td>1102</td>\n",
       "      <td>Sales</td>\n",
       "      <td>1</td>\n",
       "      <td>2</td>\n",
       "      <td>Life Sciences</td>\n",
       "      <td>1</td>\n",
       "      <td>1</td>\n",
       "      <td>2</td>\n",
       "      <td>Female</td>\n",
       "      <td>94</td>\n",
       "      <td>3</td>\n",
       "      <td>2</td>\n",
       "      <td>Sales Executive</td>\n",
       "      <td>4</td>\n",
       "      <td>Single</td>\n",
       "      <td>5993</td>\n",
       "      <td>19479</td>\n",
       "      <td>8</td>\n",
       "      <td>Y</td>\n",
       "      <td>Yes</td>\n",
       "      <td>11</td>\n",
       "      <td>3</td>\n",
       "      <td>1</td>\n",
       "      <td>80</td>\n",
       "      <td>0</td>\n",
       "      <td>8</td>\n",
       "      <td>0</td>\n",
       "      <td>1</td>\n",
       "      <td>6</td>\n",
       "      <td>4</td>\n",
       "      <td>0</td>\n",
       "      <td>5</td>\n",
       "    </tr>\n",
       "    <tr>\n",
       "      <th>1</th>\n",
       "      <td>49</td>\n",
       "      <td>0</td>\n",
       "      <td>Travel_Frequently</td>\n",
       "      <td>279</td>\n",
       "      <td>Research &amp; Development</td>\n",
       "      <td>8</td>\n",
       "      <td>1</td>\n",
       "      <td>Life Sciences</td>\n",
       "      <td>1</td>\n",
       "      <td>2</td>\n",
       "      <td>3</td>\n",
       "      <td>Male</td>\n",
       "      <td>61</td>\n",
       "      <td>2</td>\n",
       "      <td>2</td>\n",
       "      <td>Research Scientist</td>\n",
       "      <td>2</td>\n",
       "      <td>Married</td>\n",
       "      <td>5130</td>\n",
       "      <td>24907</td>\n",
       "      <td>1</td>\n",
       "      <td>Y</td>\n",
       "      <td>No</td>\n",
       "      <td>23</td>\n",
       "      <td>4</td>\n",
       "      <td>4</td>\n",
       "      <td>80</td>\n",
       "      <td>1</td>\n",
       "      <td>10</td>\n",
       "      <td>3</td>\n",
       "      <td>3</td>\n",
       "      <td>10</td>\n",
       "      <td>7</td>\n",
       "      <td>1</td>\n",
       "      <td>7</td>\n",
       "    </tr>\n",
       "    <tr>\n",
       "      <th>2</th>\n",
       "      <td>37</td>\n",
       "      <td>1</td>\n",
       "      <td>Travel_Rarely</td>\n",
       "      <td>1373</td>\n",
       "      <td>Research &amp; Development</td>\n",
       "      <td>2</td>\n",
       "      <td>2</td>\n",
       "      <td>Other</td>\n",
       "      <td>1</td>\n",
       "      <td>4</td>\n",
       "      <td>4</td>\n",
       "      <td>Male</td>\n",
       "      <td>92</td>\n",
       "      <td>2</td>\n",
       "      <td>1</td>\n",
       "      <td>Laboratory Technician</td>\n",
       "      <td>3</td>\n",
       "      <td>Single</td>\n",
       "      <td>2090</td>\n",
       "      <td>2396</td>\n",
       "      <td>6</td>\n",
       "      <td>Y</td>\n",
       "      <td>Yes</td>\n",
       "      <td>15</td>\n",
       "      <td>3</td>\n",
       "      <td>2</td>\n",
       "      <td>80</td>\n",
       "      <td>0</td>\n",
       "      <td>7</td>\n",
       "      <td>3</td>\n",
       "      <td>3</td>\n",
       "      <td>0</td>\n",
       "      <td>0</td>\n",
       "      <td>0</td>\n",
       "      <td>0</td>\n",
       "    </tr>\n",
       "    <tr>\n",
       "      <th>3</th>\n",
       "      <td>33</td>\n",
       "      <td>0</td>\n",
       "      <td>Travel_Frequently</td>\n",
       "      <td>1392</td>\n",
       "      <td>Research &amp; Development</td>\n",
       "      <td>3</td>\n",
       "      <td>4</td>\n",
       "      <td>Life Sciences</td>\n",
       "      <td>1</td>\n",
       "      <td>5</td>\n",
       "      <td>4</td>\n",
       "      <td>Female</td>\n",
       "      <td>56</td>\n",
       "      <td>3</td>\n",
       "      <td>1</td>\n",
       "      <td>Research Scientist</td>\n",
       "      <td>3</td>\n",
       "      <td>Married</td>\n",
       "      <td>2909</td>\n",
       "      <td>23159</td>\n",
       "      <td>1</td>\n",
       "      <td>Y</td>\n",
       "      <td>Yes</td>\n",
       "      <td>11</td>\n",
       "      <td>3</td>\n",
       "      <td>3</td>\n",
       "      <td>80</td>\n",
       "      <td>0</td>\n",
       "      <td>8</td>\n",
       "      <td>3</td>\n",
       "      <td>3</td>\n",
       "      <td>8</td>\n",
       "      <td>7</td>\n",
       "      <td>3</td>\n",
       "      <td>0</td>\n",
       "    </tr>\n",
       "    <tr>\n",
       "      <th>4</th>\n",
       "      <td>27</td>\n",
       "      <td>0</td>\n",
       "      <td>Travel_Rarely</td>\n",
       "      <td>591</td>\n",
       "      <td>Research &amp; Development</td>\n",
       "      <td>2</td>\n",
       "      <td>1</td>\n",
       "      <td>Medical</td>\n",
       "      <td>1</td>\n",
       "      <td>7</td>\n",
       "      <td>1</td>\n",
       "      <td>Male</td>\n",
       "      <td>40</td>\n",
       "      <td>3</td>\n",
       "      <td>1</td>\n",
       "      <td>Laboratory Technician</td>\n",
       "      <td>2</td>\n",
       "      <td>Married</td>\n",
       "      <td>3468</td>\n",
       "      <td>16632</td>\n",
       "      <td>9</td>\n",
       "      <td>Y</td>\n",
       "      <td>No</td>\n",
       "      <td>12</td>\n",
       "      <td>3</td>\n",
       "      <td>4</td>\n",
       "      <td>80</td>\n",
       "      <td>1</td>\n",
       "      <td>6</td>\n",
       "      <td>3</td>\n",
       "      <td>3</td>\n",
       "      <td>2</td>\n",
       "      <td>2</td>\n",
       "      <td>2</td>\n",
       "      <td>2</td>\n",
       "    </tr>\n",
       "  </tbody>\n",
       "</table>\n",
       "</div>"
      ],
      "text/plain": [
       "   Age  Attrition     BusinessTravel  DailyRate              Department  \\\n",
       "0   41          1      Travel_Rarely       1102                   Sales   \n",
       "1   49          0  Travel_Frequently        279  Research & Development   \n",
       "2   37          1      Travel_Rarely       1373  Research & Development   \n",
       "3   33          0  Travel_Frequently       1392  Research & Development   \n",
       "4   27          0      Travel_Rarely        591  Research & Development   \n",
       "\n",
       "   DistanceFromHome  Education EducationField  EmployeeCount  EmployeeNumber  \\\n",
       "0                 1          2  Life Sciences              1               1   \n",
       "1                 8          1  Life Sciences              1               2   \n",
       "2                 2          2          Other              1               4   \n",
       "3                 3          4  Life Sciences              1               5   \n",
       "4                 2          1        Medical              1               7   \n",
       "\n",
       "   EnvironmentSatisfaction  Gender  HourlyRate  JobInvolvement  JobLevel  \\\n",
       "0                        2  Female          94               3         2   \n",
       "1                        3    Male          61               2         2   \n",
       "2                        4    Male          92               2         1   \n",
       "3                        4  Female          56               3         1   \n",
       "4                        1    Male          40               3         1   \n",
       "\n",
       "                 JobRole  JobSatisfaction MaritalStatus  MonthlyIncome  \\\n",
       "0        Sales Executive                4        Single           5993   \n",
       "1     Research Scientist                2       Married           5130   \n",
       "2  Laboratory Technician                3        Single           2090   \n",
       "3     Research Scientist                3       Married           2909   \n",
       "4  Laboratory Technician                2       Married           3468   \n",
       "\n",
       "   MonthlyRate  NumCompaniesWorked Over18 OverTime  PercentSalaryHike  \\\n",
       "0        19479                   8      Y      Yes                 11   \n",
       "1        24907                   1      Y       No                 23   \n",
       "2         2396                   6      Y      Yes                 15   \n",
       "3        23159                   1      Y      Yes                 11   \n",
       "4        16632                   9      Y       No                 12   \n",
       "\n",
       "   PerformanceRating  RelationshipSatisfaction  StandardHours  \\\n",
       "0                  3                         1             80   \n",
       "1                  4                         4             80   \n",
       "2                  3                         2             80   \n",
       "3                  3                         3             80   \n",
       "4                  3                         4             80   \n",
       "\n",
       "   StockOptionLevel  TotalWorkingYears  TrainingTimesLastYear  \\\n",
       "0                 0                  8                      0   \n",
       "1                 1                 10                      3   \n",
       "2                 0                  7                      3   \n",
       "3                 0                  8                      3   \n",
       "4                 1                  6                      3   \n",
       "\n",
       "   WorkLifeBalance  YearsAtCompany  YearsInCurrentRole  \\\n",
       "0                1               6                   4   \n",
       "1                3              10                   7   \n",
       "2                3               0                   0   \n",
       "3                3               8                   7   \n",
       "4                3               2                   2   \n",
       "\n",
       "   YearsSinceLastPromotion  YearsWithCurrManager  \n",
       "0                        0                     5  \n",
       "1                        1                     7  \n",
       "2                        0                     0  \n",
       "3                        3                     0  \n",
       "4                        2                     2  "
      ]
     },
     "execution_count": 3,
     "metadata": {},
     "output_type": "execute_result"
    }
   ],
   "source": [
    "# copy of the data\n",
    "\n",
    "df=data.copy()\n",
    "df.head()"
   ]
  },
  {
   "cell_type": "code",
   "execution_count": 4,
   "id": "312d7957",
   "metadata": {
    "scrolled": true
   },
   "outputs": [
    {
     "name": "stdout",
     "output_type": "stream",
     "text": [
      "<class 'pandas.core.frame.DataFrame'>\n",
      "RangeIndex: 1058 entries, 0 to 1057\n",
      "Data columns (total 35 columns):\n",
      " #   Column                    Non-Null Count  Dtype \n",
      "---  ------                    --------------  ----- \n",
      " 0   Age                       1058 non-null   int64 \n",
      " 1   Attrition                 1058 non-null   int64 \n",
      " 2   BusinessTravel            1058 non-null   object\n",
      " 3   DailyRate                 1058 non-null   int64 \n",
      " 4   Department                1058 non-null   object\n",
      " 5   DistanceFromHome          1058 non-null   int64 \n",
      " 6   Education                 1058 non-null   int64 \n",
      " 7   EducationField            1058 non-null   object\n",
      " 8   EmployeeCount             1058 non-null   int64 \n",
      " 9   EmployeeNumber            1058 non-null   int64 \n",
      " 10  EnvironmentSatisfaction   1058 non-null   int64 \n",
      " 11  Gender                    1058 non-null   object\n",
      " 12  HourlyRate                1058 non-null   int64 \n",
      " 13  JobInvolvement            1058 non-null   int64 \n",
      " 14  JobLevel                  1058 non-null   int64 \n",
      " 15  JobRole                   1058 non-null   object\n",
      " 16  JobSatisfaction           1058 non-null   int64 \n",
      " 17  MaritalStatus             1058 non-null   object\n",
      " 18  MonthlyIncome             1058 non-null   int64 \n",
      " 19  MonthlyRate               1058 non-null   int64 \n",
      " 20  NumCompaniesWorked        1058 non-null   int64 \n",
      " 21  Over18                    1058 non-null   object\n",
      " 22  OverTime                  1058 non-null   object\n",
      " 23  PercentSalaryHike         1058 non-null   int64 \n",
      " 24  PerformanceRating         1058 non-null   int64 \n",
      " 25  RelationshipSatisfaction  1058 non-null   int64 \n",
      " 26  StandardHours             1058 non-null   int64 \n",
      " 27  StockOptionLevel          1058 non-null   int64 \n",
      " 28  TotalWorkingYears         1058 non-null   int64 \n",
      " 29  TrainingTimesLastYear     1058 non-null   int64 \n",
      " 30  WorkLifeBalance           1058 non-null   int64 \n",
      " 31  YearsAtCompany            1058 non-null   int64 \n",
      " 32  YearsInCurrentRole        1058 non-null   int64 \n",
      " 33  YearsSinceLastPromotion   1058 non-null   int64 \n",
      " 34  YearsWithCurrManager      1058 non-null   int64 \n",
      "dtypes: int64(27), object(8)\n",
      "memory usage: 289.4+ KB\n"
     ]
    }
   ],
   "source": [
    "# information about the data\n",
    "\n",
    "df.info()"
   ]
  },
  {
   "cell_type": "code",
   "execution_count": 5,
   "id": "fbb3fd85",
   "metadata": {
    "scrolled": true
   },
   "outputs": [
    {
     "data": {
      "text/html": [
       "<div>\n",
       "<style scoped>\n",
       "    .dataframe tbody tr th:only-of-type {\n",
       "        vertical-align: middle;\n",
       "    }\n",
       "\n",
       "    .dataframe tbody tr th {\n",
       "        vertical-align: top;\n",
       "    }\n",
       "\n",
       "    .dataframe thead th {\n",
       "        text-align: right;\n",
       "    }\n",
       "</style>\n",
       "<table border=\"1\" class=\"dataframe\">\n",
       "  <thead>\n",
       "    <tr style=\"text-align: right;\">\n",
       "      <th></th>\n",
       "      <th>Age</th>\n",
       "      <th>Attrition</th>\n",
       "      <th>DailyRate</th>\n",
       "      <th>DistanceFromHome</th>\n",
       "      <th>Education</th>\n",
       "      <th>EmployeeCount</th>\n",
       "      <th>EmployeeNumber</th>\n",
       "      <th>EnvironmentSatisfaction</th>\n",
       "      <th>HourlyRate</th>\n",
       "      <th>JobInvolvement</th>\n",
       "      <th>JobLevel</th>\n",
       "      <th>JobSatisfaction</th>\n",
       "      <th>MonthlyIncome</th>\n",
       "      <th>MonthlyRate</th>\n",
       "      <th>NumCompaniesWorked</th>\n",
       "      <th>PercentSalaryHike</th>\n",
       "      <th>PerformanceRating</th>\n",
       "      <th>RelationshipSatisfaction</th>\n",
       "      <th>StandardHours</th>\n",
       "      <th>StockOptionLevel</th>\n",
       "      <th>TotalWorkingYears</th>\n",
       "      <th>TrainingTimesLastYear</th>\n",
       "      <th>WorkLifeBalance</th>\n",
       "      <th>YearsAtCompany</th>\n",
       "      <th>YearsInCurrentRole</th>\n",
       "      <th>YearsSinceLastPromotion</th>\n",
       "      <th>YearsWithCurrManager</th>\n",
       "    </tr>\n",
       "  </thead>\n",
       "  <tbody>\n",
       "    <tr>\n",
       "      <th>count</th>\n",
       "      <td>1058.000000</td>\n",
       "      <td>1058.000000</td>\n",
       "      <td>1058.000000</td>\n",
       "      <td>1058.000000</td>\n",
       "      <td>1058.000000</td>\n",
       "      <td>1058.000000</td>\n",
       "      <td>1058.000000</td>\n",
       "      <td>1058.000000</td>\n",
       "      <td>1058.000000</td>\n",
       "      <td>1058.000000</td>\n",
       "      <td>1058.000000</td>\n",
       "      <td>1058.000000</td>\n",
       "      <td>1058.000000</td>\n",
       "      <td>1058.000000</td>\n",
       "      <td>1058.000000</td>\n",
       "      <td>1058.000000</td>\n",
       "      <td>1058.000000</td>\n",
       "      <td>1058.000000</td>\n",
       "      <td>1058.000000</td>\n",
       "      <td>1058.000000</td>\n",
       "      <td>1058.000000</td>\n",
       "      <td>1058.000000</td>\n",
       "      <td>1058.000000</td>\n",
       "      <td>1058.000000</td>\n",
       "      <td>1058.000000</td>\n",
       "      <td>1058.000000</td>\n",
       "      <td>1058.000000</td>\n",
       "    </tr>\n",
       "    <tr>\n",
       "      <th>mean</th>\n",
       "      <td>37.055766</td>\n",
       "      <td>0.169187</td>\n",
       "      <td>809.542533</td>\n",
       "      <td>8.978261</td>\n",
       "      <td>2.879017</td>\n",
       "      <td>1.000000</td>\n",
       "      <td>731.753308</td>\n",
       "      <td>2.712665</td>\n",
       "      <td>65.643667</td>\n",
       "      <td>2.737240</td>\n",
       "      <td>2.090737</td>\n",
       "      <td>2.749527</td>\n",
       "      <td>6625.945180</td>\n",
       "      <td>14267.281664</td>\n",
       "      <td>2.706994</td>\n",
       "      <td>15.155955</td>\n",
       "      <td>3.150284</td>\n",
       "      <td>2.726843</td>\n",
       "      <td>80.000000</td>\n",
       "      <td>0.762760</td>\n",
       "      <td>11.435728</td>\n",
       "      <td>2.769376</td>\n",
       "      <td>2.763705</td>\n",
       "      <td>7.065217</td>\n",
       "      <td>4.260870</td>\n",
       "      <td>2.203214</td>\n",
       "      <td>4.142722</td>\n",
       "    </tr>\n",
       "    <tr>\n",
       "      <th>std</th>\n",
       "      <td>9.410421</td>\n",
       "      <td>0.375094</td>\n",
       "      <td>408.478049</td>\n",
       "      <td>8.040608</td>\n",
       "      <td>1.031442</td>\n",
       "      <td>0.000000</td>\n",
       "      <td>431.418209</td>\n",
       "      <td>1.092959</td>\n",
       "      <td>20.324861</td>\n",
       "      <td>0.704730</td>\n",
       "      <td>1.136514</td>\n",
       "      <td>1.104144</td>\n",
       "      <td>4837.695042</td>\n",
       "      <td>7048.077305</td>\n",
       "      <td>2.523526</td>\n",
       "      <td>3.641097</td>\n",
       "      <td>0.357518</td>\n",
       "      <td>1.090970</td>\n",
       "      <td>0.000000</td>\n",
       "      <td>0.837537</td>\n",
       "      <td>8.016429</td>\n",
       "      <td>1.302689</td>\n",
       "      <td>0.707392</td>\n",
       "      <td>6.265227</td>\n",
       "      <td>3.617470</td>\n",
       "      <td>3.266948</td>\n",
       "      <td>3.599044</td>\n",
       "    </tr>\n",
       "    <tr>\n",
       "      <th>min</th>\n",
       "      <td>18.000000</td>\n",
       "      <td>0.000000</td>\n",
       "      <td>102.000000</td>\n",
       "      <td>1.000000</td>\n",
       "      <td>1.000000</td>\n",
       "      <td>1.000000</td>\n",
       "      <td>1.000000</td>\n",
       "      <td>1.000000</td>\n",
       "      <td>30.000000</td>\n",
       "      <td>1.000000</td>\n",
       "      <td>1.000000</td>\n",
       "      <td>1.000000</td>\n",
       "      <td>1009.000000</td>\n",
       "      <td>2094.000000</td>\n",
       "      <td>0.000000</td>\n",
       "      <td>11.000000</td>\n",
       "      <td>3.000000</td>\n",
       "      <td>1.000000</td>\n",
       "      <td>80.000000</td>\n",
       "      <td>0.000000</td>\n",
       "      <td>0.000000</td>\n",
       "      <td>0.000000</td>\n",
       "      <td>1.000000</td>\n",
       "      <td>0.000000</td>\n",
       "      <td>0.000000</td>\n",
       "      <td>0.000000</td>\n",
       "      <td>0.000000</td>\n",
       "    </tr>\n",
       "    <tr>\n",
       "      <th>25%</th>\n",
       "      <td>30.000000</td>\n",
       "      <td>0.000000</td>\n",
       "      <td>465.250000</td>\n",
       "      <td>2.000000</td>\n",
       "      <td>2.000000</td>\n",
       "      <td>1.000000</td>\n",
       "      <td>364.500000</td>\n",
       "      <td>2.000000</td>\n",
       "      <td>48.000000</td>\n",
       "      <td>2.000000</td>\n",
       "      <td>1.000000</td>\n",
       "      <td>2.000000</td>\n",
       "      <td>2900.250000</td>\n",
       "      <td>8277.250000</td>\n",
       "      <td>1.000000</td>\n",
       "      <td>12.000000</td>\n",
       "      <td>3.000000</td>\n",
       "      <td>2.000000</td>\n",
       "      <td>80.000000</td>\n",
       "      <td>0.000000</td>\n",
       "      <td>6.000000</td>\n",
       "      <td>2.000000</td>\n",
       "      <td>2.000000</td>\n",
       "      <td>3.000000</td>\n",
       "      <td>2.000000</td>\n",
       "      <td>0.000000</td>\n",
       "      <td>2.000000</td>\n",
       "    </tr>\n",
       "    <tr>\n",
       "      <th>50%</th>\n",
       "      <td>36.000000</td>\n",
       "      <td>0.000000</td>\n",
       "      <td>817.500000</td>\n",
       "      <td>7.000000</td>\n",
       "      <td>3.000000</td>\n",
       "      <td>1.000000</td>\n",
       "      <td>723.500000</td>\n",
       "      <td>3.000000</td>\n",
       "      <td>65.000000</td>\n",
       "      <td>3.000000</td>\n",
       "      <td>2.000000</td>\n",
       "      <td>3.000000</td>\n",
       "      <td>4903.500000</td>\n",
       "      <td>14201.000000</td>\n",
       "      <td>2.000000</td>\n",
       "      <td>14.000000</td>\n",
       "      <td>3.000000</td>\n",
       "      <td>3.000000</td>\n",
       "      <td>80.000000</td>\n",
       "      <td>1.000000</td>\n",
       "      <td>10.000000</td>\n",
       "      <td>3.000000</td>\n",
       "      <td>3.000000</td>\n",
       "      <td>5.000000</td>\n",
       "      <td>3.000000</td>\n",
       "      <td>1.000000</td>\n",
       "      <td>3.000000</td>\n",
       "    </tr>\n",
       "    <tr>\n",
       "      <th>75%</th>\n",
       "      <td>43.000000</td>\n",
       "      <td>0.000000</td>\n",
       "      <td>1168.500000</td>\n",
       "      <td>13.000000</td>\n",
       "      <td>4.000000</td>\n",
       "      <td>1.000000</td>\n",
       "      <td>1101.750000</td>\n",
       "      <td>4.000000</td>\n",
       "      <td>83.000000</td>\n",
       "      <td>3.000000</td>\n",
       "      <td>3.000000</td>\n",
       "      <td>4.000000</td>\n",
       "      <td>8736.500000</td>\n",
       "      <td>20364.000000</td>\n",
       "      <td>4.000000</td>\n",
       "      <td>18.000000</td>\n",
       "      <td>3.000000</td>\n",
       "      <td>4.000000</td>\n",
       "      <td>80.000000</td>\n",
       "      <td>1.000000</td>\n",
       "      <td>16.000000</td>\n",
       "      <td>3.000000</td>\n",
       "      <td>3.000000</td>\n",
       "      <td>9.000000</td>\n",
       "      <td>7.000000</td>\n",
       "      <td>3.000000</td>\n",
       "      <td>7.000000</td>\n",
       "    </tr>\n",
       "    <tr>\n",
       "      <th>max</th>\n",
       "      <td>60.000000</td>\n",
       "      <td>1.000000</td>\n",
       "      <td>1499.000000</td>\n",
       "      <td>29.000000</td>\n",
       "      <td>5.000000</td>\n",
       "      <td>1.000000</td>\n",
       "      <td>1487.000000</td>\n",
       "      <td>4.000000</td>\n",
       "      <td>100.000000</td>\n",
       "      <td>4.000000</td>\n",
       "      <td>5.000000</td>\n",
       "      <td>4.000000</td>\n",
       "      <td>19999.000000</td>\n",
       "      <td>26999.000000</td>\n",
       "      <td>9.000000</td>\n",
       "      <td>25.000000</td>\n",
       "      <td>4.000000</td>\n",
       "      <td>4.000000</td>\n",
       "      <td>80.000000</td>\n",
       "      <td>3.000000</td>\n",
       "      <td>40.000000</td>\n",
       "      <td>6.000000</td>\n",
       "      <td>4.000000</td>\n",
       "      <td>40.000000</td>\n",
       "      <td>18.000000</td>\n",
       "      <td>15.000000</td>\n",
       "      <td>17.000000</td>\n",
       "    </tr>\n",
       "  </tbody>\n",
       "</table>\n",
       "</div>"
      ],
      "text/plain": [
       "              Age   Attrition   DailyRate  DistanceFromHome   Education  \\\n",
       "count 1058.000000 1058.000000 1058.000000       1058.000000 1058.000000   \n",
       "mean    37.055766    0.169187  809.542533          8.978261    2.879017   \n",
       "std      9.410421    0.375094  408.478049          8.040608    1.031442   \n",
       "min     18.000000    0.000000  102.000000          1.000000    1.000000   \n",
       "25%     30.000000    0.000000  465.250000          2.000000    2.000000   \n",
       "50%     36.000000    0.000000  817.500000          7.000000    3.000000   \n",
       "75%     43.000000    0.000000 1168.500000         13.000000    4.000000   \n",
       "max     60.000000    1.000000 1499.000000         29.000000    5.000000   \n",
       "\n",
       "       EmployeeCount  EmployeeNumber  EnvironmentSatisfaction  HourlyRate  \\\n",
       "count    1058.000000     1058.000000              1058.000000 1058.000000   \n",
       "mean        1.000000      731.753308                 2.712665   65.643667   \n",
       "std         0.000000      431.418209                 1.092959   20.324861   \n",
       "min         1.000000        1.000000                 1.000000   30.000000   \n",
       "25%         1.000000      364.500000                 2.000000   48.000000   \n",
       "50%         1.000000      723.500000                 3.000000   65.000000   \n",
       "75%         1.000000     1101.750000                 4.000000   83.000000   \n",
       "max         1.000000     1487.000000                 4.000000  100.000000   \n",
       "\n",
       "       JobInvolvement    JobLevel  JobSatisfaction  MonthlyIncome  \\\n",
       "count     1058.000000 1058.000000      1058.000000    1058.000000   \n",
       "mean         2.737240    2.090737         2.749527    6625.945180   \n",
       "std          0.704730    1.136514         1.104144    4837.695042   \n",
       "min          1.000000    1.000000         1.000000    1009.000000   \n",
       "25%          2.000000    1.000000         2.000000    2900.250000   \n",
       "50%          3.000000    2.000000         3.000000    4903.500000   \n",
       "75%          3.000000    3.000000         4.000000    8736.500000   \n",
       "max          4.000000    5.000000         4.000000   19999.000000   \n",
       "\n",
       "       MonthlyRate  NumCompaniesWorked  PercentSalaryHike  PerformanceRating  \\\n",
       "count  1058.000000         1058.000000        1058.000000        1058.000000   \n",
       "mean  14267.281664            2.706994          15.155955           3.150284   \n",
       "std    7048.077305            2.523526           3.641097           0.357518   \n",
       "min    2094.000000            0.000000          11.000000           3.000000   \n",
       "25%    8277.250000            1.000000          12.000000           3.000000   \n",
       "50%   14201.000000            2.000000          14.000000           3.000000   \n",
       "75%   20364.000000            4.000000          18.000000           3.000000   \n",
       "max   26999.000000            9.000000          25.000000           4.000000   \n",
       "\n",
       "       RelationshipSatisfaction  StandardHours  StockOptionLevel  \\\n",
       "count               1058.000000    1058.000000       1058.000000   \n",
       "mean                   2.726843      80.000000          0.762760   \n",
       "std                    1.090970       0.000000          0.837537   \n",
       "min                    1.000000      80.000000          0.000000   \n",
       "25%                    2.000000      80.000000          0.000000   \n",
       "50%                    3.000000      80.000000          1.000000   \n",
       "75%                    4.000000      80.000000          1.000000   \n",
       "max                    4.000000      80.000000          3.000000   \n",
       "\n",
       "       TotalWorkingYears  TrainingTimesLastYear  WorkLifeBalance  \\\n",
       "count        1058.000000            1058.000000      1058.000000   \n",
       "mean           11.435728               2.769376         2.763705   \n",
       "std             8.016429               1.302689         0.707392   \n",
       "min             0.000000               0.000000         1.000000   \n",
       "25%             6.000000               2.000000         2.000000   \n",
       "50%            10.000000               3.000000         3.000000   \n",
       "75%            16.000000               3.000000         3.000000   \n",
       "max            40.000000               6.000000         4.000000   \n",
       "\n",
       "       YearsAtCompany  YearsInCurrentRole  YearsSinceLastPromotion  \\\n",
       "count     1058.000000         1058.000000              1058.000000   \n",
       "mean         7.065217            4.260870                 2.203214   \n",
       "std          6.265227            3.617470                 3.266948   \n",
       "min          0.000000            0.000000                 0.000000   \n",
       "25%          3.000000            2.000000                 0.000000   \n",
       "50%          5.000000            3.000000                 1.000000   \n",
       "75%          9.000000            7.000000                 3.000000   \n",
       "max         40.000000           18.000000                15.000000   \n",
       "\n",
       "       YearsWithCurrManager  \n",
       "count           1058.000000  \n",
       "mean               4.142722  \n",
       "std                3.599044  \n",
       "min                0.000000  \n",
       "25%                2.000000  \n",
       "50%                3.000000  \n",
       "75%                7.000000  \n",
       "max               17.000000  "
      ]
     },
     "execution_count": 5,
     "metadata": {},
     "output_type": "execute_result"
    }
   ],
   "source": [
    "# About the data\n",
    "\n",
    "df.describe()"
   ]
  },
  {
   "cell_type": "code",
   "execution_count": 6,
   "id": "6e301436",
   "metadata": {},
   "outputs": [
    {
     "name": "stdout",
     "output_type": "stream",
     "text": [
      "Age: Number of unique values 43\n",
      "------------------------------------------------\n",
      "Attrition: Number of unique values 2\n",
      "------------------------------------------------\n",
      "BusinessTravel: Number of unique values 3\n",
      "------------------------------------------------\n",
      "DailyRate: Number of unique values 731\n",
      "------------------------------------------------\n",
      "Department: Number of unique values 3\n",
      "------------------------------------------------\n",
      "DistanceFromHome: Number of unique values 29\n",
      "------------------------------------------------\n",
      "Education: Number of unique values 5\n",
      "------------------------------------------------\n",
      "EducationField: Number of unique values 6\n",
      "------------------------------------------------\n",
      "EmployeeCount: Number of unique values 1\n",
      "------------------------------------------------\n",
      "EmployeeNumber: Number of unique values 1058\n",
      "------------------------------------------------\n",
      "EnvironmentSatisfaction: Number of unique values 4\n",
      "------------------------------------------------\n",
      "Gender: Number of unique values 2\n",
      "------------------------------------------------\n",
      "HourlyRate: Number of unique values 71\n",
      "------------------------------------------------\n",
      "JobInvolvement: Number of unique values 4\n",
      "------------------------------------------------\n",
      "JobLevel: Number of unique values 5\n",
      "------------------------------------------------\n",
      "JobRole: Number of unique values 9\n",
      "------------------------------------------------\n",
      "JobSatisfaction: Number of unique values 4\n",
      "------------------------------------------------\n",
      "MaritalStatus: Number of unique values 3\n",
      "------------------------------------------------\n",
      "MonthlyIncome: Number of unique values 991\n",
      "------------------------------------------------\n",
      "MonthlyRate: Number of unique values 1038\n",
      "------------------------------------------------\n",
      "NumCompaniesWorked: Number of unique values 10\n",
      "------------------------------------------------\n",
      "Over18: Number of unique values 1\n",
      "------------------------------------------------\n",
      "OverTime: Number of unique values 2\n",
      "------------------------------------------------\n",
      "PercentSalaryHike: Number of unique values 15\n",
      "------------------------------------------------\n",
      "PerformanceRating: Number of unique values 2\n",
      "------------------------------------------------\n",
      "RelationshipSatisfaction: Number of unique values 4\n",
      "------------------------------------------------\n",
      "StandardHours: Number of unique values 1\n",
      "------------------------------------------------\n",
      "StockOptionLevel: Number of unique values 4\n",
      "------------------------------------------------\n",
      "TotalWorkingYears: Number of unique values 40\n",
      "------------------------------------------------\n",
      "TrainingTimesLastYear: Number of unique values 7\n",
      "------------------------------------------------\n",
      "WorkLifeBalance: Number of unique values 4\n",
      "------------------------------------------------\n",
      "YearsAtCompany: Number of unique values 35\n",
      "------------------------------------------------\n",
      "YearsInCurrentRole: Number of unique values 19\n",
      "------------------------------------------------\n",
      "YearsSinceLastPromotion: Number of unique values 16\n",
      "------------------------------------------------\n",
      "YearsWithCurrManager: Number of unique values 18\n",
      "------------------------------------------------\n"
     ]
    }
   ],
   "source": [
    "# Unique values in columns\n",
    "\n",
    "for column in df.columns:\n",
    "    print(f\"{column}: Number of unique values {df[column].nunique()}\")\n",
    "    print(\"------------------------------------------------\")"
   ]
  },
  {
   "cell_type": "markdown",
   "id": "ec901395",
   "metadata": {},
   "source": [
    "We notice that:\n",
    "'EmployeeCount', 'Over18', 'StandardHours' have only one unique values and 'EmployeeNumber' has 1470 unique values.\n",
    "This features aren't useful for us. So we are going to drop those columns."
   ]
  },
  {
   "cell_type": "code",
   "execution_count": 8,
   "id": "6097c08a",
   "metadata": {},
   "outputs": [
    {
     "data": {
      "text/plain": [
       "(1058, 35)"
      ]
     },
     "execution_count": 8,
     "metadata": {},
     "output_type": "execute_result"
    }
   ],
   "source": [
    "df.shape"
   ]
  },
  {
   "cell_type": "code",
   "execution_count": 9,
   "id": "2b7549f3",
   "metadata": {},
   "outputs": [],
   "source": [
    "df.drop(['EmployeeCount', 'EmployeeNumber', 'Over18', 'StandardHours'], axis=\"columns\", inplace=True)"
   ]
  },
  {
   "cell_type": "code",
   "execution_count": 10,
   "id": "9366fbfd",
   "metadata": {},
   "outputs": [
    {
     "data": {
      "text/plain": [
       "(1058, 31)"
      ]
     },
     "execution_count": 10,
     "metadata": {},
     "output_type": "execute_result"
    }
   ],
   "source": [
    "df.shape"
   ]
  },
  {
   "cell_type": "code",
   "execution_count": 11,
   "id": "ea1612f3",
   "metadata": {},
   "outputs": [
    {
     "name": "stdout",
     "output_type": "stream",
     "text": [
      "BusinessTravel : ['Travel_Rarely' 'Travel_Frequently' 'Non-Travel']\n",
      "Travel_Rarely        746\n",
      "Travel_Frequently    205\n",
      "Non-Travel           107\n",
      "Name: BusinessTravel, dtype: int64\n",
      "----------------------------------------\n",
      "Department : ['Sales' 'Research & Development' 'Human Resources']\n",
      "Research & Development    701\n",
      "Sales                     319\n",
      "Human Resources            38\n",
      "Name: Department, dtype: int64\n",
      "----------------------------------------\n",
      "EducationField : ['Life Sciences' 'Other' 'Medical' 'Marketing' 'Technical Degree'\n",
      " 'Human Resources']\n",
      "Life Sciences       436\n",
      "Medical             330\n",
      "Marketing           122\n",
      "Technical Degree     96\n",
      "Other                59\n",
      "Human Resources      15\n",
      "Name: EducationField, dtype: int64\n",
      "----------------------------------------\n",
      "Gender : ['Female' 'Male']\n",
      "Male      620\n",
      "Female    438\n",
      "Name: Gender, dtype: int64\n",
      "----------------------------------------\n",
      "JobRole : ['Sales Executive' 'Research Scientist' 'Laboratory Technician'\n",
      " 'Manufacturing Director' 'Healthcare Representative' 'Manager'\n",
      " 'Sales Representative' 'Research Director' 'Human Resources']\n",
      "Sales Executive              232\n",
      "Research Scientist           214\n",
      "Laboratory Technician        188\n",
      "Manufacturing Director       107\n",
      "Healthcare Representative     88\n",
      "Manager                       79\n",
      "Research Director             62\n",
      "Sales Representative          58\n",
      "Human Resources               30\n",
      "Name: JobRole, dtype: int64\n",
      "----------------------------------------\n",
      "MaritalStatus : ['Single' 'Married' 'Divorced']\n",
      "Married     464\n",
      "Single      352\n",
      "Divorced    242\n",
      "Name: MaritalStatus, dtype: int64\n",
      "----------------------------------------\n",
      "OverTime : ['Yes' 'No']\n",
      "No     751\n",
      "Yes    307\n",
      "Name: OverTime, dtype: int64\n",
      "----------------------------------------\n"
     ]
    }
   ],
   "source": [
    "object_col = []\n",
    "for column in df.columns:\n",
    "    if df[column].dtype == object and len(df[column].unique()) <= 30:\n",
    "        object_col.append(column)\n",
    "        print(f\"{column} : {df[column].unique()}\")\n",
    "        print(df[column].value_counts())\n",
    "        print(\"----------------------------------------\")"
   ]
  },
  {
   "cell_type": "code",
   "execution_count": 12,
   "id": "dbfba3a1",
   "metadata": {},
   "outputs": [
    {
     "data": {
      "text/plain": [
       "7"
      ]
     },
     "execution_count": 12,
     "metadata": {},
     "output_type": "execute_result"
    }
   ],
   "source": [
    "len(object_col)"
   ]
  },
  {
   "cell_type": "code",
   "execution_count": 13,
   "id": "0ee6431a",
   "metadata": {},
   "outputs": [
    {
     "name": "stdout",
     "output_type": "stream",
     "text": [
      "Attrition : [1 0]\n",
      "--------------------------------\n",
      "DistanceFromHome : [ 1  8  2  3 24 23 27 16 15 26 19 21  5 11  9  7  6 10  4 25 12 18 29 22\n",
      " 14 20 28 17 13]\n",
      "--------------------------------\n",
      "Education : [2 1 4 3 5]\n",
      "--------------------------------\n",
      "EnvironmentSatisfaction : [2 3 4 1]\n",
      "--------------------------------\n",
      "JobInvolvement : [3 2 4 1]\n",
      "--------------------------------\n",
      "JobLevel : [2 1 3 4 5]\n",
      "--------------------------------\n",
      "JobSatisfaction : [4 2 3 1]\n",
      "--------------------------------\n",
      "NumCompaniesWorked : [8 1 6 9 0 4 5 2 7 3]\n",
      "--------------------------------\n",
      "PercentSalaryHike : [11 23 15 12 13 20 22 21 17 14 16 18 19 24 25]\n",
      "--------------------------------\n",
      "PerformanceRating : [3 4]\n",
      "--------------------------------\n",
      "RelationshipSatisfaction : [1 4 2 3]\n",
      "--------------------------------\n",
      "StockOptionLevel : [0 1 3 2]\n",
      "--------------------------------\n",
      "TrainingTimesLastYear : [0 3 2 5 1 4 6]\n",
      "--------------------------------\n",
      "WorkLifeBalance : [1 3 2 4]\n",
      "--------------------------------\n",
      "YearsInCurrentRole : [ 4  7  0  2  5  9  8  3  6 13  1 15 14 16 11 10 12 18 17]\n",
      "--------------------------------\n",
      "YearsSinceLastPromotion : [ 0  1  3  2  7  4  8  6  5 15  9 13 12 10 11 14]\n",
      "--------------------------------\n",
      "YearsWithCurrManager : [ 5  7  0  2  6  8  3 11 17  1  4 12  9 10 15 13 16 14]\n",
      "--------------------------------\n"
     ]
    }
   ],
   "source": [
    "disc_col = []\n",
    "for column in df.columns:\n",
    "    if df[column].dtypes != object and df[column].nunique() < 30:\n",
    "        print(f\"{column} : {df[column].unique()}\")\n",
    "        disc_col.append(column)\n",
    "        print(\"--------------------------------\")\n",
    "disc_col.remove('Attrition')"
   ]
  },
  {
   "cell_type": "code",
   "execution_count": 14,
   "id": "9c5d105b",
   "metadata": {},
   "outputs": [
    {
     "data": {
      "text/plain": [
       "16"
      ]
     },
     "execution_count": 14,
     "metadata": {},
     "output_type": "execute_result"
    }
   ],
   "source": [
    "len(disc_col)"
   ]
  },
  {
   "cell_type": "code",
   "execution_count": 15,
   "id": "6508138e",
   "metadata": {
    "scrolled": true
   },
   "outputs": [
    {
     "name": "stdout",
     "output_type": "stream",
     "text": [
      "Age : Minimum: 18, Maximum: 60\n",
      "------------------------------------\n",
      "DailyRate : Minimum: 102, Maximum: 1499\n",
      "------------------------------------\n",
      "HourlyRate : Minimum: 30, Maximum: 100\n",
      "------------------------------------\n",
      "MonthlyIncome : Minimum: 1009, Maximum: 19999\n",
      "------------------------------------\n",
      "MonthlyRate : Minimum: 2094, Maximum: 26999\n",
      "------------------------------------\n",
      "TotalWorkingYears : Minimum: 0, Maximum: 40\n",
      "------------------------------------\n",
      "YearsAtCompany : Minimum: 0, Maximum: 40\n",
      "------------------------------------\n"
     ]
    }
   ],
   "source": [
    "cont_col = []\n",
    "for column in df.columns:\n",
    "    if df[column].dtypes != object and df[column].nunique() > 30:\n",
    "        print(f\"{column} : Minimum: {df[column].min()}, Maximum: {df[column].max()}\")\n",
    "        cont_col.append(column)\n",
    "        print(\"------------------------------------\")"
   ]
  },
  {
   "cell_type": "code",
   "execution_count": 16,
   "id": "50471d30",
   "metadata": {},
   "outputs": [
    {
     "data": {
      "text/plain": [
       "7"
      ]
     },
     "execution_count": 16,
     "metadata": {},
     "output_type": "execute_result"
    }
   ],
   "source": [
    "len(cont_col)"
   ]
  },
  {
   "cell_type": "markdown",
   "id": "9cebe4ac",
   "metadata": {},
   "source": [
    "# Visualisation of Columns"
   ]
  },
  {
   "cell_type": "code",
   "execution_count": 17,
   "id": "7e09235d",
   "metadata": {},
   "outputs": [
    {
     "data": {
      "text/plain": [
       "<AxesSubplot:xlabel='DailyRate'>"
      ]
     },
     "execution_count": 17,
     "metadata": {},
     "output_type": "execute_result"
    },
    {
     "data": {
      "image/png": "[encoded data removed]",
      "text/plain": [
       "<Figure size 576x360 with 1 Axes>"
      ]
     },
     "metadata": {
      "needs_background": "light"
     },
     "output_type": "display_data"
    }
   ],
   "source": [
    "plt.figure(figsize = (8,5))\n",
    "sns.boxplot(data = df , x = 'DailyRate',hue = 'Attrition')"
   ]
  },
  {
   "cell_type": "code",
   "execution_count": 18,
   "id": "ee6e398a",
   "metadata": {
    "scrolled": true
   },
   "outputs": [
    {
     "data": {
      "text/plain": [
       "<AxesSubplot:xlabel='HourlyRate'>"
      ]
     },
     "execution_count": 18,
     "metadata": {},
     "output_type": "execute_result"
    },
    {
     "data": {
      "image/png": "[encoded data removed]",
      "text/plain": [
       "<Figure size 432x288 with 1 Axes>"
      ]
     },
     "metadata": {
      "needs_background": "light"
     },
     "output_type": "display_data"
    }
   ],
   "source": [
    "sns.boxplot(data = df , x = 'HourlyRate',hue = 'Attrition')"
   ]
  },
  {
   "cell_type": "code",
   "execution_count": 20,
   "id": "e0b486f0",
   "metadata": {},
   "outputs": [
    {
     "data": {
      "text/plain": [
       "<AxesSubplot:xlabel='MonthlyRate'>"
      ]
     },
     "execution_count": 20,
     "metadata": {},
     "output_type": "execute_result"
    },
    {
     "data": {
      "image/png": "[encoded data removed]",
      "text/plain": [
       "<Figure size 432x288 with 1 Axes>"
      ]
     },
     "metadata": {
      "needs_background": "light"
     },
     "output_type": "display_data"
    }
   ],
   "source": [
    "sns.boxplot(data = df , x = 'MonthlyRate',hue = 'Attrition')"
   ]
  },
  {
   "cell_type": "code",
   "execution_count": 21,
   "id": "3d43edfe",
   "metadata": {
    "scrolled": true
   },
   "outputs": [
    {
     "data": {
      "text/plain": [
       "<AxesSubplot:xlabel='DistanceFromHome', ylabel='Count'>"
      ]
     },
     "execution_count": 21,
     "metadata": {},
     "output_type": "execute_result"
    },
    {
     "data": {
      "image/png": "[encoded data removed]",
      "text/plain": [
       "<Figure size 432x288 with 1 Axes>"
      ]
     },
     "metadata": {
      "needs_background": "light"
     },
     "output_type": "display_data"
    }
   ],
   "source": [
    "sns.histplot(data = df , x = 'DistanceFromHome',hue = 'Attrition',bins = 30)"
   ]
  },
  {
   "cell_type": "code",
   "execution_count": 19,
   "id": "ce464780",
   "metadata": {},
   "outputs": [
    {
     "data": {
      "text/plain": [
       "<AxesSubplot:xlabel='YearsInCurrentRole', ylabel='Count'>"
      ]
     },
     "execution_count": 19,
     "metadata": {},
     "output_type": "execute_result"
    },
    {
     "data": {
      "image/png": "[encoded data removed]",
      "text/plain": [
       "<Figure size 720x360 with 1 Axes>"
      ]
     },
     "metadata": {
      "needs_background": "light"
     },
     "output_type": "display_data"
    }
   ],
   "source": [
    "plt.figure(figsize = (10,5))\n",
    "sns.histplot(data = df , x = 'YearsInCurrentRole',hue = 'Attrition')"
   ]
  },
  {
   "cell_type": "code",
   "execution_count": 20,
   "id": "9e6d907d",
   "metadata": {
    "scrolled": true
   },
   "outputs": [
    {
     "data": {
      "text/plain": [
       "<AxesSubplot:xlabel='YearsSinceLastPromotion', ylabel='Count'>"
      ]
     },
     "execution_count": 20,
     "metadata": {},
     "output_type": "execute_result"
    },
    {
     "data": {
      "image/png": "[encoded data removed]",
      "text/plain": [
       "<Figure size 720x360 with 1 Axes>"
      ]
     },
     "metadata": {
      "needs_background": "light"
     },
     "output_type": "display_data"
    }
   ],
   "source": [
    "plt.figure(figsize = (10,5))\n",
    "sns.histplot(data = df , x = 'YearsSinceLastPromotion',hue = 'Attrition')"
   ]
  },
  {
   "cell_type": "code",
   "execution_count": 21,
   "id": "527a461a",
   "metadata": {},
   "outputs": [
    {
     "data": {
      "text/plain": [
       "<AxesSubplot:xlabel='YearsWithCurrManager', ylabel='Count'>"
      ]
     },
     "execution_count": 21,
     "metadata": {},
     "output_type": "execute_result"
    },
    {
     "data": {
      "image/png": "[encoded data removed]",
      "text/plain": [
       "<Figure size 720x360 with 1 Axes>"
      ]
     },
     "metadata": {
      "needs_background": "light"
     },
     "output_type": "display_data"
    }
   ],
   "source": [
    "plt.figure(figsize = (10,5))\n",
    "\n",
    "sns.histplot(data = df , x = 'YearsWithCurrManager',hue = 'Attrition')"
   ]
  },
  {
   "cell_type": "code",
   "execution_count": 24,
   "id": "404367b4",
   "metadata": {},
   "outputs": [
    {
     "data": {
      "text/plain": [
       "<AxesSubplot:xlabel='PercentSalaryHike', ylabel='Count'>"
      ]
     },
     "execution_count": 24,
     "metadata": {},
     "output_type": "execute_result"
    },
    {
     "data": {
      "image/png": "[encoded data removed]",
      "text/plain": [
       "<Figure size 432x288 with 1 Axes>"
      ]
     },
     "metadata": {
      "needs_background": "light"
     },
     "output_type": "display_data"
    }
   ],
   "source": [
    "sns.histplot(data = df , x = 'PercentSalaryHike',hue = 'Attrition')"
   ]
  },
  {
   "cell_type": "code",
   "execution_count": 25,
   "id": "f56dd05d",
   "metadata": {},
   "outputs": [
    {
     "data": {
      "text/plain": [
       "<AxesSubplot:xlabel='Age', ylabel='Count'>"
      ]
     },
     "execution_count": 25,
     "metadata": {},
     "output_type": "execute_result"
    },
    {
     "data": {
      "image/png": "[encoded data removed]",
      "text/plain": [
       "<Figure size 432x288 with 1 Axes>"
      ]
     },
     "metadata": {
      "needs_background": "light"
     },
     "output_type": "display_data"
    }
   ],
   "source": [
    "sns.histplot(data = df , x = 'Age',hue = 'Attrition',bins = 35)"
   ]
  },
  {
   "cell_type": "code",
   "execution_count": 31,
   "id": "1203efc8",
   "metadata": {},
   "outputs": [
    {
     "data": {
      "text/plain": [
       "<AxesSubplot:xlabel='MonthlyIncome', ylabel='Count'>"
      ]
     },
     "execution_count": 31,
     "metadata": {},
     "output_type": "execute_result"
    },
    {
     "data": {
      "image/png": "[encoded data removed]",
      "text/plain": [
       "<Figure size 720x576 with 1 Axes>"
      ]
     },
     "metadata": {
      "needs_background": "light"
     },
     "output_type": "display_data"
    }
   ],
   "source": [
    "plt.figure(figsize = (10,8))\n",
    "\n",
    "sns.histplot(data = df , x = 'MonthlyIncome',hue = 'Attrition')"
   ]
  },
  {
   "cell_type": "code",
   "execution_count": 32,
   "id": "ebf0b9e1",
   "metadata": {},
   "outputs": [
    {
     "data": {
      "text/plain": [
       "<AxesSubplot:xlabel='MonthlyIncome'>"
      ]
     },
     "execution_count": 32,
     "metadata": {},
     "output_type": "execute_result"
    },
    {
     "data": {
      "image/png": "[encoded data removed]",
      "text/plain": [
       "<Figure size 1440x576 with 1 Axes>"
      ]
     },
     "metadata": {
      "needs_background": "light"
     },
     "output_type": "display_data"
    }
   ],
   "source": [
    "plt.figure(figsize = (20,8))\n",
    "\n",
    "sns.swarmplot(data = df , x = 'MonthlyIncome',hue = 'Attrition')"
   ]
  },
  {
   "cell_type": "code",
   "execution_count": 33,
   "id": "28298534",
   "metadata": {},
   "outputs": [
    {
     "data": {
      "text/plain": [
       "<AxesSubplot:xlabel='YearsAtCompany', ylabel='Count'>"
      ]
     },
     "execution_count": 33,
     "metadata": {},
     "output_type": "execute_result"
    },
    {
     "data": {
      "image/png": "[encoded data removed]",
      "text/plain": [
       "<Figure size 720x360 with 1 Axes>"
      ]
     },
     "metadata": {
      "needs_background": "light"
     },
     "output_type": "display_data"
    }
   ],
   "source": [
    "plt.figure(figsize= (10,5))\n",
    "sns.histplot(data = df , x = 'YearsAtCompany',hue = 'Attrition',bins = 35)"
   ]
  },
  {
   "cell_type": "code",
   "execution_count": 34,
   "id": "23f65b4c",
   "metadata": {},
   "outputs": [
    {
     "data": {
      "text/plain": [
       "<AxesSubplot:xlabel='TotalWorkingYears', ylabel='Count'>"
      ]
     },
     "execution_count": 34,
     "metadata": {},
     "output_type": "execute_result"
    },
    {
     "data": {
      "image/png": "[encoded data removed]",
      "text/plain": [
       "<Figure size 432x288 with 1 Axes>"
      ]
     },
     "metadata": {
      "needs_background": "light"
     },
     "output_type": "display_data"
    }
   ],
   "source": [
    "sns.histplot(data = df , x = 'TotalWorkingYears',hue = 'Attrition',bins = 35)"
   ]
  },
  {
   "cell_type": "code",
   "execution_count": 22,
   "id": "f7ad6dd8",
   "metadata": {
    "scrolled": true
   },
   "outputs": [
    {
     "data": {
      "text/plain": [
       "<AxesSubplot:xlabel='Education', ylabel='count'>"
      ]
     },
     "execution_count": 22,
     "metadata": {},
     "output_type": "execute_result"
    },
    {
     "data": {
      "image/png": "[encoded data removed]",
      "text/plain": [
       "<Figure size 432x288 with 1 Axes>"
      ]
     },
     "metadata": {
      "needs_background": "light"
     },
     "output_type": "display_data"
    }
   ],
   "source": [
    "sns.countplot(data = df , x = 'Education',hue = 'Attrition')"
   ]
  },
  {
   "cell_type": "code",
   "execution_count": 23,
   "id": "b673191b",
   "metadata": {},
   "outputs": [
    {
     "data": {
      "text/plain": [
       "<AxesSubplot:xlabel='WorkLifeBalance', ylabel='count'>"
      ]
     },
     "execution_count": 23,
     "metadata": {},
     "output_type": "execute_result"
    },
    {
     "data": {
      "image/png": "[encoded data removed]",
      "text/plain": [
       "<Figure size 432x288 with 1 Axes>"
      ]
     },
     "metadata": {
      "needs_background": "light"
     },
     "output_type": "display_data"
    }
   ],
   "source": [
    "sns.countplot(data = df , x = 'WorkLifeBalance',hue = 'Attrition')"
   ]
  },
  {
   "cell_type": "code",
   "execution_count": 26,
   "id": "22ab6f91",
   "metadata": {
    "scrolled": true
   },
   "outputs": [
    {
     "data": {
      "text/plain": [
       "<AxesSubplot:xlabel='EducationField', ylabel='count'>"
      ]
     },
     "execution_count": 26,
     "metadata": {},
     "output_type": "execute_result"
    },
    {
     "data": {
      "image/png": "[encoded data removed]",
      "text/plain": [
       "<Figure size 720x360 with 1 Axes>"
      ]
     },
     "metadata": {
      "needs_background": "light"
     },
     "output_type": "display_data"
    }
   ],
   "source": [
    "plt.figure(figsize = (10,5))\n",
    "\n",
    "sns.countplot(data = df , x = 'EducationField',hue = 'Attrition')"
   ]
  },
  {
   "cell_type": "code",
   "execution_count": 28,
   "id": "8405b0e7",
   "metadata": {},
   "outputs": [
    {
     "data": {
      "text/plain": [
       "<AxesSubplot:xlabel='JobRole', ylabel='count'>"
      ]
     },
     "execution_count": 28,
     "metadata": {},
     "output_type": "execute_result"
    },
    {
     "data": {
      "image/png": "[encoded data removed]",
      "text/plain": [
       "<Figure size 1584x648 with 1 Axes>"
      ]
     },
     "metadata": {
      "needs_background": "light"
     },
     "output_type": "display_data"
    }
   ],
   "source": [
    "plt.figure(figsize = (22,9))\n",
    "\n",
    "sns.countplot(data = df , x = 'JobRole',hue = 'Attrition')"
   ]
  },
  {
   "cell_type": "code",
   "execution_count": 29,
   "id": "2c826ef8",
   "metadata": {},
   "outputs": [
    {
     "data": {
      "text/plain": [
       "<AxesSubplot:xlabel='RelationshipSatisfaction', ylabel='count'>"
      ]
     },
     "execution_count": 29,
     "metadata": {},
     "output_type": "execute_result"
    },
    {
     "data": {
      "image/png": "[encoded data removed]",
      "text/plain": [
       "<Figure size 432x288 with 1 Axes>"
      ]
     },
     "metadata": {
      "needs_background": "light"
     },
     "output_type": "display_data"
    }
   ],
   "source": [
    "sns.countplot(data = df , x = 'RelationshipSatisfaction',hue = 'Attrition')"
   ]
  },
  {
   "cell_type": "code",
   "execution_count": 30,
   "id": "db5f241d",
   "metadata": {},
   "outputs": [
    {
     "data": {
      "text/plain": [
       "<AxesSubplot:xlabel='EnvironmentSatisfaction', ylabel='count'>"
      ]
     },
     "execution_count": 30,
     "metadata": {},
     "output_type": "execute_result"
    },
    {
     "data": {
      "image/png": "[encoded data removed]",
      "text/plain": [
       "<Figure size 432x288 with 1 Axes>"
      ]
     },
     "metadata": {
      "needs_background": "light"
     },
     "output_type": "display_data"
    }
   ],
   "source": [
    "sns.countplot(data = df , x = 'EnvironmentSatisfaction',hue = 'Attrition')"
   ]
  },
  {
   "cell_type": "code",
   "execution_count": 31,
   "id": "1f8e2171",
   "metadata": {},
   "outputs": [
    {
     "data": {
      "text/plain": [
       "<AxesSubplot:xlabel='JobInvolvement', ylabel='count'>"
      ]
     },
     "execution_count": 31,
     "metadata": {},
     "output_type": "execute_result"
    },
    {
     "data": {
      "image/png": "[encoded data removed]",
      "text/plain": [
       "<Figure size 432x288 with 1 Axes>"
      ]
     },
     "metadata": {
      "needs_background": "light"
     },
     "output_type": "display_data"
    }
   ],
   "source": [
    "sns.countplot(data = df , x = 'JobInvolvement',hue = 'Attrition')"
   ]
  },
  {
   "cell_type": "code",
   "execution_count": 32,
   "id": "be575bb1",
   "metadata": {},
   "outputs": [
    {
     "data": {
      "text/plain": [
       "<AxesSubplot:xlabel='JobLevel', ylabel='count'>"
      ]
     },
     "execution_count": 32,
     "metadata": {},
     "output_type": "execute_result"
    },
    {
     "data": {
      "image/png": "[encoded data removed]",
      "text/plain": [
       "<Figure size 432x288 with 1 Axes>"
      ]
     },
     "metadata": {
      "needs_background": "light"
     },
     "output_type": "display_data"
    }
   ],
   "source": [
    "sns.countplot(data = df , x = 'JobLevel',hue = 'Attrition')"
   ]
  },
  {
   "cell_type": "code",
   "execution_count": 33,
   "id": "0f1eeb5e",
   "metadata": {},
   "outputs": [
    {
     "data": {
      "text/plain": [
       "<AxesSubplot:xlabel='JobSatisfaction', ylabel='count'>"
      ]
     },
     "execution_count": 33,
     "metadata": {},
     "output_type": "execute_result"
    },
    {
     "data": {
      "image/png": "[encoded data removed]",
      "text/plain": [
       "<Figure size 432x288 with 1 Axes>"
      ]
     },
     "metadata": {
      "needs_background": "light"
     },
     "output_type": "display_data"
    }
   ],
   "source": [
    "sns.countplot(data = df , x = 'JobSatisfaction',hue = 'Attrition')"
   ]
  },
  {
   "cell_type": "code",
   "execution_count": 34,
   "id": "ff151092",
   "metadata": {},
   "outputs": [
    {
     "data": {
      "text/plain": [
       "<AxesSubplot:xlabel='NumCompaniesWorked', ylabel='count'>"
      ]
     },
     "execution_count": 34,
     "metadata": {},
     "output_type": "execute_result"
    },
    {
     "data": {
      "image/png": "[encoded data removed]",
      "text/plain": [
       "<Figure size 432x288 with 1 Axes>"
      ]
     },
     "metadata": {
      "needs_background": "light"
     },
     "output_type": "display_data"
    }
   ],
   "source": [
    "sns.countplot(data = df , x = 'NumCompaniesWorked',hue = 'Attrition')"
   ]
  },
  {
   "cell_type": "code",
   "execution_count": null,
   "id": "884c7412",
   "metadata": {},
   "outputs": [],
   "source": []
  },
  {
   "cell_type": "code",
   "execution_count": 36,
   "id": "38d06418",
   "metadata": {},
   "outputs": [
    {
     "data": {
      "text/plain": [
       "<AxesSubplot:xlabel='StockOptionLevel', ylabel='count'>"
      ]
     },
     "execution_count": 36,
     "metadata": {},
     "output_type": "execute_result"
    },
    {
     "data": {
      "image/png": "[encoded data removed]",
      "text/plain": [
       "<Figure size 432x288 with 1 Axes>"
      ]
     },
     "metadata": {
      "needs_background": "light"
     },
     "output_type": "display_data"
    }
   ],
   "source": [
    "sns.countplot(data = df , x = 'StockOptionLevel',hue = 'Attrition')"
   ]
  },
  {
   "cell_type": "code",
   "execution_count": 37,
   "id": "bae85283",
   "metadata": {},
   "outputs": [
    {
     "data": {
      "text/plain": [
       "<AxesSubplot:xlabel='PerformanceRating', ylabel='count'>"
      ]
     },
     "execution_count": 37,
     "metadata": {},
     "output_type": "execute_result"
    },
    {
     "data": {
      "image/png": "[encoded data removed]",
      "text/plain": [
       "<Figure size 432x288 with 1 Axes>"
      ]
     },
     "metadata": {
      "needs_background": "light"
     },
     "output_type": "display_data"
    }
   ],
   "source": [
    "sns.countplot(data = df , x = 'PerformanceRating',hue = 'Attrition')"
   ]
  },
  {
   "cell_type": "code",
   "execution_count": 38,
   "id": "20d13adc",
   "metadata": {
    "scrolled": false
   },
   "outputs": [
    {
     "data": {
      "text/plain": [
       "<AxesSubplot:xlabel='TrainingTimesLastYear', ylabel='count'>"
      ]
     },
     "execution_count": 38,
     "metadata": {},
     "output_type": "execute_result"
    },
    {
     "data": {
      "image/png": "[encoded data removed]",
      "text/plain": [
       "<Figure size 432x288 with 1 Axes>"
      ]
     },
     "metadata": {
      "needs_background": "light"
     },
     "output_type": "display_data"
    }
   ],
   "source": [
    "sns.countplot(data = df , x = 'TrainingTimesLastYear',hue = 'Attrition')"
   ]
  },
  {
   "cell_type": "code",
   "execution_count": 39,
   "id": "5123da66",
   "metadata": {},
   "outputs": [
    {
     "data": {
      "text/plain": [
       "<AxesSubplot:xlabel='JobSatisfaction', ylabel='count'>"
      ]
     },
     "execution_count": 39,
     "metadata": {},
     "output_type": "execute_result"
    },
    {
     "data": {
      "image/png": "[encoded data removed]",
      "text/plain": [
       "<Figure size 432x288 with 1 Axes>"
      ]
     },
     "metadata": {
      "needs_background": "light"
     },
     "output_type": "display_data"
    }
   ],
   "source": [
    "sns.countplot(data = df , x = 'JobSatisfaction',hue = 'Attrition')"
   ]
  },
  {
   "cell_type": "code",
   "execution_count": 45,
   "id": "eadf2f18",
   "metadata": {},
   "outputs": [
    {
     "data": {
      "text/plain": [
       "<AxesSubplot:xlabel='BusinessTravel', ylabel='count'>"
      ]
     },
     "execution_count": 45,
     "metadata": {},
     "output_type": "execute_result"
    },
    {
     "data": {
      "image/png": "[encoded data removed]",
      "text/plain": [
       "<Figure size 432x288 with 1 Axes>"
      ]
     },
     "metadata": {
      "needs_background": "light"
     },
     "output_type": "display_data"
    }
   ],
   "source": [
    "sns.countplot(data = df , x = 'BusinessTravel',hue = 'Attrition')"
   ]
  },
  {
   "cell_type": "code",
   "execution_count": 46,
   "id": "999c92c3",
   "metadata": {},
   "outputs": [
    {
     "data": {
      "text/plain": [
       "<AxesSubplot:xlabel='Department', ylabel='count'>"
      ]
     },
     "execution_count": 46,
     "metadata": {},
     "output_type": "execute_result"
    },
    {
     "data": {
      "image/png": "[encoded data removed]",
      "text/plain": [
       "<Figure size 432x288 with 1 Axes>"
      ]
     },
     "metadata": {
      "needs_background": "light"
     },
     "output_type": "display_data"
    }
   ],
   "source": [
    "sns.countplot(data = df , x = 'Department',hue = 'Attrition')"
   ]
  },
  {
   "cell_type": "code",
   "execution_count": 47,
   "id": "9603969c",
   "metadata": {},
   "outputs": [
    {
     "data": {
      "text/plain": [
       "<AxesSubplot:xlabel='Gender', ylabel='count'>"
      ]
     },
     "execution_count": 47,
     "metadata": {},
     "output_type": "execute_result"
    },
    {
     "data": {
      "image/png": "[encoded data removed]",
      "text/plain": [
       "<Figure size 432x288 with 1 Axes>"
      ]
     },
     "metadata": {
      "needs_background": "light"
     },
     "output_type": "display_data"
    }
   ],
   "source": [
    "sns.countplot(data = df , x= 'Gender',hue = 'Attrition')"
   ]
  },
  {
   "cell_type": "code",
   "execution_count": 48,
   "id": "8f651a1a",
   "metadata": {},
   "outputs": [
    {
     "data": {
      "text/plain": [
       "<AxesSubplot:xlabel='MaritalStatus', ylabel='count'>"
      ]
     },
     "execution_count": 48,
     "metadata": {},
     "output_type": "execute_result"
    },
    {
     "data": {
      "image/png": "[encoded data removed]",
      "text/plain": [
       "<Figure size 432x288 with 1 Axes>"
      ]
     },
     "metadata": {
      "needs_background": "light"
     },
     "output_type": "display_data"
    }
   ],
   "source": [
    "sns.countplot(data = df , x = 'MaritalStatus',hue = 'Attrition')"
   ]
  },
  {
   "cell_type": "code",
   "execution_count": 49,
   "id": "4bd9e739",
   "metadata": {},
   "outputs": [
    {
     "data": {
      "text/plain": [
       "<AxesSubplot:xlabel='OverTime', ylabel='count'>"
      ]
     },
     "execution_count": 49,
     "metadata": {},
     "output_type": "execute_result"
    },
    {
     "data": {
      "image/png": "[encoded data removed]",
      "text/plain": [
       "<Figure size 432x288 with 1 Axes>"
      ]
     },
     "metadata": {
      "needs_background": "light"
     },
     "output_type": "display_data"
    }
   ],
   "source": [
    "sns.countplot(data = df , x = 'OverTime',hue = 'Attrition')"
   ]
  },
  {
   "cell_type": "code",
   "execution_count": 50,
   "id": "c181c036",
   "metadata": {},
   "outputs": [],
   "source": [
    "# It seems that EnvironmentSatisfaction, JobSatisfaction, PerformanceRating, and RelationshipSatisfaction \n",
    "# features don't have big impact on the detrmination of Attrition of employees.\n",
    "\n",
    "# The workers with low JobLevel, MonthlyIncome, YearAtCompany, and TotalWorkingYears are more likely to quit there jobs.\n",
    "\n",
    "# BusinessTravel : The workers who travel alot are more likely to quit then other employees.\n",
    "\n",
    "# Department : The worker in Research & Development are more likely to stay then the workers on other departement.\n",
    "\n",
    "# EducationField : The workers with Human Resources and Technical Degree are more likely to quit then employees from other fields of educations.\n",
    "\n",
    "# Gender : The Male are more likely to quit.\n",
    "\n",
    "# JobRole : The workers in Laboratory Technician, Sales Representative, and Human Resources are more likely to quit the workers in other positions.\n",
    "\n",
    "# MaritalStatus : The workers who have Single marital status are more likely to quit the Married, and Divorced.\n",
    "\n",
    "# OverTime : The workers who work more hours are likely to quit then others."
   ]
  }
 ],
 "metadata": {
  "kernelspec": {
   "display_name": "Python 3 (ipykernel)",
   "language": "python",
   "name": "python3"
  },
  "language_info": {
   "codemirror_mode": {
    "name": "ipython",
    "version": 3
   },
   "file_extension": ".py",
   "mimetype": "text/x-python",
   "name": "python",
   "nbconvert_exporter": "python",
   "pygments_lexer": "ipython3",
   "version": "3.9.12"
  }
 },
 "nbformat": 4,
 "nbformat_minor": 5
}
